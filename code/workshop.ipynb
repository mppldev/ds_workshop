{
  "nbformat": 4,
  "nbformat_minor": 0,
  "metadata": {
    "colab": {
      "name": "workshop.ipynb",
      "provenance": [],
      "collapsed_sections": []
    },
    "kernelspec": {
      "name": "python3",
      "display_name": "Python 3"
    }
  },
  "cells": [
    {
      "cell_type": "code",
      "metadata": {
        "id": "1tTdy5u4MZjp",
        "colab_type": "code",
        "colab": {}
      },
      "source": [
        "import os\n",
        "import sys\n",
        "import urllib\n",
        "import os.path as op\n",
        "import urllib\n",
        "\n",
        "import pandas as pd\n",
        "import seaborn as sns\n",
        "import numpy as np\n",
        "\n",
        "from sklearn.linear_model import SGDClassifier\n",
        "from sklearn.model_selection import train_test_split, TimeSeriesSplit\n",
        "from sklearn.tree import DecisionTreeClassifier\n",
        "from sklearn.neighbors import KNeighborsClassifier\n",
        "from sklearn.preprocessing import StandardScaler\n",
        "from sklearn.model_selection import ParameterSampler\n",
        "from scipy.stats.distributions import norm, uniform"
      ],
      "execution_count": 0,
      "outputs": []
    },
    {
      "cell_type": "code",
      "metadata": {
        "id": "VN7lI4qtu2mJ",
        "colab_type": "code",
        "colab": {}
      },
      "source": [
        "INPUT = \"./data/\""
      ],
      "execution_count": 0,
      "outputs": []
    },
    {
      "cell_type": "code",
      "metadata": {
        "id": "8_U-vQtOMb7D",
        "colab_type": "code",
        "colab": {}
      },
      "source": [
        "FILE_IDS = [\n",
        "            \"dataset.csv\",\n",
        "            \"games.csv\",\n",
        "            \"upcoming_games.csv\",\n",
        "            \"values.csv\"\n",
        "]"
      ],
      "execution_count": 0,
      "outputs": []
    },
    {
      "cell_type": "code",
      "metadata": {
        "id": "vl5pzrf5Q9OH",
        "colab_type": "code",
        "colab": {}
      },
      "source": [
        "opener = urllib.request.URLopener()"
      ],
      "execution_count": 0,
      "outputs": []
    },
    {
      "cell_type": "code",
      "metadata": {
        "id": "rqgTpketjfBw",
        "colab_type": "code",
        "colab": {}
      },
      "source": [
        "BASE_URL = \"https://github.com/mppldev/ds_workshop/raw/master/data/{}\""
      ],
      "execution_count": 0,
      "outputs": []
    },
    {
      "cell_type": "code",
      "metadata": {
        "id": "9fwV2GSZV-y2",
        "colab_type": "code",
        "colab": {}
      },
      "source": [
        "if not op.exists(INPUT):\n",
        "  os.makedirs(INPUT)"
      ],
      "execution_count": 0,
      "outputs": []
    },
    {
      "cell_type": "code",
      "metadata": {
        "id": "tNtz61xlR0Of",
        "colab_type": "code",
        "colab": {}
      },
      "source": [
        "for f in FILE_IDS:\n",
        "  file_path = op.join(\"./data\",f)\n",
        "  if not op.exists(file_path):\n",
        "    res = urllib.request.urlopen(BASE_URL.format(f))\n",
        "    content = res.read()\n",
        "    with open(file_path, \"w\") as file:\n",
        "      file.write(content.decode(\"utf-8\"))"
      ],
      "execution_count": 0,
      "outputs": []
    },
    {
      "cell_type": "code",
      "metadata": {
        "id": "59r0wm9-KZ5Q",
        "colab_type": "code",
        "colab": {
          "base_uri": "https://localhost:8080/",
          "height": 34
        },
        "outputId": "24242166-78ee-41a8-eddf-9c7b073dda8e"
      },
      "source": [
        "RANDOM_STATE = 42\n",
        "np.random.RandomState(RANDOM_STATE)"
      ],
      "execution_count": 117,
      "outputs": [
        {
          "output_type": "execute_result",
          "data": {
            "text/plain": [
              "RandomState(MT19937) at 0x7F9CF7CB1678"
            ]
          },
          "metadata": {
            "tags": []
          },
          "execution_count": 117
        }
      ]
    },
    {
      "cell_type": "code",
      "metadata": {
        "id": "tloatQ8YKegq",
        "colab_type": "code",
        "colab": {}
      },
      "source": [
        "TARGET = \"delta\""
      ],
      "execution_count": 0,
      "outputs": []
    },
    {
      "cell_type": "code",
      "metadata": {
        "id": "vLzjZqx1KidR",
        "colab_type": "code",
        "colab": {
          "base_uri": "https://localhost:8080/",
          "height": 609
        },
        "outputId": "00377005-072c-4de7-c24e-85f35c1bb7ae"
      },
      "source": [
        "df = pd.read_csv(op.join(INPUT, \"dataset.csv\")) # load data without header\n",
        "df.sort_values(by=\"date\", ascending=True)"
      ],
      "execution_count": 119,
      "outputs": [
        {
          "output_type": "execute_result",
          "data": {
            "text/html": [
              "<div>\n",
              "<style scoped>\n",
              "    .dataframe tbody tr th:only-of-type {\n",
              "        vertical-align: middle;\n",
              "    }\n",
              "\n",
              "    .dataframe tbody tr th {\n",
              "        vertical-align: top;\n",
              "    }\n",
              "\n",
              "    .dataframe thead th {\n",
              "        text-align: right;\n",
              "    }\n",
              "</style>\n",
              "<table border=\"1\" class=\"dataframe\">\n",
              "  <thead>\n",
              "    <tr style=\"text-align: right;\">\n",
              "      <th></th>\n",
              "      <th>date</th>\n",
              "      <th>home</th>\n",
              "      <th>away</th>\n",
              "      <th>goals_home</th>\n",
              "      <th>goals_away</th>\n",
              "      <th>season</th>\n",
              "      <th>delta</th>\n",
              "      <th>year</th>\n",
              "      <th>home__val</th>\n",
              "      <th>away__val</th>\n",
              "      <th>home__scored</th>\n",
              "      <th>home__suffered</th>\n",
              "      <th>home__delta_minus_1</th>\n",
              "      <th>home__delta_minus_2</th>\n",
              "      <th>home__delta_minus_3</th>\n",
              "      <th>home__delta_minus_4</th>\n",
              "      <th>home__avg_scored_3</th>\n",
              "      <th>home__avg_suffered_3</th>\n",
              "      <th>home__avg_scored_5</th>\n",
              "      <th>home__avg_suffered_5</th>\n",
              "      <th>away__scored</th>\n",
              "      <th>away__suffered</th>\n",
              "      <th>away__delta_minus_1</th>\n",
              "      <th>away__delta_minus_2</th>\n",
              "      <th>away__delta_minus_3</th>\n",
              "      <th>away__delta_minus_4</th>\n",
              "      <th>away__avg_scored_3</th>\n",
              "      <th>away__avg_suffered_3</th>\n",
              "      <th>away__avg_scored_5</th>\n",
              "      <th>away__avg_suffered_5</th>\n",
              "    </tr>\n",
              "  </thead>\n",
              "  <tbody>\n",
              "    <tr>\n",
              "      <th>396</th>\n",
              "      <td>2011-08-12</td>\n",
              "      <td>Gil Vicente</td>\n",
              "      <td>Benfica</td>\n",
              "      <td>2</td>\n",
              "      <td>2</td>\n",
              "      <td>2011</td>\n",
              "      <td>0</td>\n",
              "      <td>2011</td>\n",
              "      <td>6850</td>\n",
              "      <td>174300</td>\n",
              "      <td>2</td>\n",
              "      <td>2</td>\n",
              "      <td>0</td>\n",
              "      <td>0</td>\n",
              "      <td>0</td>\n",
              "      <td>0</td>\n",
              "      <td>0.000000</td>\n",
              "      <td>0.000000</td>\n",
              "      <td>0.0</td>\n",
              "      <td>0.0</td>\n",
              "      <td>2</td>\n",
              "      <td>2</td>\n",
              "      <td>0</td>\n",
              "      <td>0</td>\n",
              "      <td>0</td>\n",
              "      <td>0</td>\n",
              "      <td>0.000000</td>\n",
              "      <td>0.000000</td>\n",
              "      <td>0.0</td>\n",
              "      <td>0.0</td>\n",
              "    </tr>\n",
              "    <tr>\n",
              "      <th>397</th>\n",
              "      <td>2011-08-13</td>\n",
              "      <td>Rio Ave FC</td>\n",
              "      <td>Braga</td>\n",
              "      <td>0</td>\n",
              "      <td>0</td>\n",
              "      <td>2011</td>\n",
              "      <td>0</td>\n",
              "      <td>2011</td>\n",
              "      <td>16300</td>\n",
              "      <td>57800</td>\n",
              "      <td>0</td>\n",
              "      <td>0</td>\n",
              "      <td>0</td>\n",
              "      <td>0</td>\n",
              "      <td>0</td>\n",
              "      <td>0</td>\n",
              "      <td>0.000000</td>\n",
              "      <td>0.000000</td>\n",
              "      <td>0.0</td>\n",
              "      <td>0.0</td>\n",
              "      <td>0</td>\n",
              "      <td>0</td>\n",
              "      <td>0</td>\n",
              "      <td>0</td>\n",
              "      <td>0</td>\n",
              "      <td>0</td>\n",
              "      <td>0.000000</td>\n",
              "      <td>0.000000</td>\n",
              "      <td>0.0</td>\n",
              "      <td>0.0</td>\n",
              "    </tr>\n",
              "    <tr>\n",
              "      <th>398</th>\n",
              "      <td>2011-08-13</td>\n",
              "      <td>Sporting CP</td>\n",
              "      <td>Olhanense</td>\n",
              "      <td>1</td>\n",
              "      <td>1</td>\n",
              "      <td>2011</td>\n",
              "      <td>0</td>\n",
              "      <td>2011</td>\n",
              "      <td>128550</td>\n",
              "      <td>0</td>\n",
              "      <td>1</td>\n",
              "      <td>1</td>\n",
              "      <td>0</td>\n",
              "      <td>0</td>\n",
              "      <td>0</td>\n",
              "      <td>0</td>\n",
              "      <td>0.000000</td>\n",
              "      <td>0.000000</td>\n",
              "      <td>0.0</td>\n",
              "      <td>0.0</td>\n",
              "      <td>1</td>\n",
              "      <td>1</td>\n",
              "      <td>0</td>\n",
              "      <td>0</td>\n",
              "      <td>0</td>\n",
              "      <td>0</td>\n",
              "      <td>0.000000</td>\n",
              "      <td>0.000000</td>\n",
              "      <td>0.0</td>\n",
              "      <td>0.0</td>\n",
              "    </tr>\n",
              "    <tr>\n",
              "      <th>399</th>\n",
              "      <td>2011-08-14</td>\n",
              "      <td>Marítimo</td>\n",
              "      <td>Beira-Mar</td>\n",
              "      <td>0</td>\n",
              "      <td>0</td>\n",
              "      <td>2011</td>\n",
              "      <td>0</td>\n",
              "      <td>2011</td>\n",
              "      <td>24300</td>\n",
              "      <td>0</td>\n",
              "      <td>0</td>\n",
              "      <td>0</td>\n",
              "      <td>0</td>\n",
              "      <td>0</td>\n",
              "      <td>0</td>\n",
              "      <td>0</td>\n",
              "      <td>0.000000</td>\n",
              "      <td>0.000000</td>\n",
              "      <td>0.0</td>\n",
              "      <td>0.0</td>\n",
              "      <td>0</td>\n",
              "      <td>0</td>\n",
              "      <td>0</td>\n",
              "      <td>0</td>\n",
              "      <td>0</td>\n",
              "      <td>0</td>\n",
              "      <td>0.000000</td>\n",
              "      <td>0.000000</td>\n",
              "      <td>0.0</td>\n",
              "      <td>0.0</td>\n",
              "    </tr>\n",
              "    <tr>\n",
              "      <th>400</th>\n",
              "      <td>2011-08-14</td>\n",
              "      <td>Feirense</td>\n",
              "      <td>Nacional</td>\n",
              "      <td>0</td>\n",
              "      <td>0</td>\n",
              "      <td>2011</td>\n",
              "      <td>0</td>\n",
              "      <td>2011</td>\n",
              "      <td>0</td>\n",
              "      <td>0</td>\n",
              "      <td>0</td>\n",
              "      <td>0</td>\n",
              "      <td>0</td>\n",
              "      <td>0</td>\n",
              "      <td>0</td>\n",
              "      <td>0</td>\n",
              "      <td>0.000000</td>\n",
              "      <td>0.000000</td>\n",
              "      <td>0.0</td>\n",
              "      <td>0.0</td>\n",
              "      <td>0</td>\n",
              "      <td>0</td>\n",
              "      <td>0</td>\n",
              "      <td>0</td>\n",
              "      <td>0</td>\n",
              "      <td>0</td>\n",
              "      <td>0.000000</td>\n",
              "      <td>0.000000</td>\n",
              "      <td>0.0</td>\n",
              "      <td>0.0</td>\n",
              "    </tr>\n",
              "    <tr>\n",
              "      <th>...</th>\n",
              "      <td>...</td>\n",
              "      <td>...</td>\n",
              "      <td>...</td>\n",
              "      <td>...</td>\n",
              "      <td>...</td>\n",
              "      <td>...</td>\n",
              "      <td>...</td>\n",
              "      <td>...</td>\n",
              "      <td>...</td>\n",
              "      <td>...</td>\n",
              "      <td>...</td>\n",
              "      <td>...</td>\n",
              "      <td>...</td>\n",
              "      <td>...</td>\n",
              "      <td>...</td>\n",
              "      <td>...</td>\n",
              "      <td>...</td>\n",
              "      <td>...</td>\n",
              "      <td>...</td>\n",
              "      <td>...</td>\n",
              "      <td>...</td>\n",
              "      <td>...</td>\n",
              "      <td>...</td>\n",
              "      <td>...</td>\n",
              "      <td>...</td>\n",
              "      <td>...</td>\n",
              "      <td>...</td>\n",
              "      <td>...</td>\n",
              "      <td>...</td>\n",
              "      <td>...</td>\n",
              "    </tr>\n",
              "    <tr>\n",
              "      <th>379</th>\n",
              "      <td>2019-11-10</td>\n",
              "      <td>Marítimo</td>\n",
              "      <td>Portimonense</td>\n",
              "      <td>1</td>\n",
              "      <td>1</td>\n",
              "      <td>2019</td>\n",
              "      <td>0</td>\n",
              "      <td>2019</td>\n",
              "      <td>15650</td>\n",
              "      <td>19150</td>\n",
              "      <td>1</td>\n",
              "      <td>1</td>\n",
              "      <td>-2</td>\n",
              "      <td>-2</td>\n",
              "      <td>0</td>\n",
              "      <td>0</td>\n",
              "      <td>0.333333</td>\n",
              "      <td>1.666667</td>\n",
              "      <td>0.4</td>\n",
              "      <td>1.2</td>\n",
              "      <td>1</td>\n",
              "      <td>1</td>\n",
              "      <td>0</td>\n",
              "      <td>0</td>\n",
              "      <td>-4</td>\n",
              "      <td>-4</td>\n",
              "      <td>0.666667</td>\n",
              "      <td>2.000000</td>\n",
              "      <td>0.6</td>\n",
              "      <td>2.2</td>\n",
              "    </tr>\n",
              "    <tr>\n",
              "      <th>378</th>\n",
              "      <td>2019-11-10</td>\n",
              "      <td>Marítimo</td>\n",
              "      <td>Portimonense</td>\n",
              "      <td>1</td>\n",
              "      <td>1</td>\n",
              "      <td>2019</td>\n",
              "      <td>0</td>\n",
              "      <td>2019</td>\n",
              "      <td>15650</td>\n",
              "      <td>19150</td>\n",
              "      <td>1</td>\n",
              "      <td>1</td>\n",
              "      <td>-2</td>\n",
              "      <td>-2</td>\n",
              "      <td>0</td>\n",
              "      <td>0</td>\n",
              "      <td>0.333333</td>\n",
              "      <td>1.666667</td>\n",
              "      <td>0.4</td>\n",
              "      <td>1.2</td>\n",
              "      <td>1</td>\n",
              "      <td>1</td>\n",
              "      <td>0</td>\n",
              "      <td>0</td>\n",
              "      <td>0</td>\n",
              "      <td>-4</td>\n",
              "      <td>1.000000</td>\n",
              "      <td>1.000000</td>\n",
              "      <td>0.6</td>\n",
              "      <td>2.2</td>\n",
              "    </tr>\n",
              "    <tr>\n",
              "      <th>377</th>\n",
              "      <td>2019-11-10</td>\n",
              "      <td>Marítimo</td>\n",
              "      <td>Portimonense</td>\n",
              "      <td>1</td>\n",
              "      <td>1</td>\n",
              "      <td>2019</td>\n",
              "      <td>0</td>\n",
              "      <td>2019</td>\n",
              "      <td>15650</td>\n",
              "      <td>19150</td>\n",
              "      <td>1</td>\n",
              "      <td>1</td>\n",
              "      <td>0</td>\n",
              "      <td>-2</td>\n",
              "      <td>-2</td>\n",
              "      <td>0</td>\n",
              "      <td>0.333333</td>\n",
              "      <td>1.666667</td>\n",
              "      <td>0.6</td>\n",
              "      <td>1.4</td>\n",
              "      <td>1</td>\n",
              "      <td>1</td>\n",
              "      <td>0</td>\n",
              "      <td>0</td>\n",
              "      <td>-4</td>\n",
              "      <td>-4</td>\n",
              "      <td>0.666667</td>\n",
              "      <td>2.000000</td>\n",
              "      <td>0.6</td>\n",
              "      <td>2.2</td>\n",
              "    </tr>\n",
              "    <tr>\n",
              "      <th>385</th>\n",
              "      <td>2019-11-10</td>\n",
              "      <td>Sporting CP</td>\n",
              "      <td>Belenenses SAD</td>\n",
              "      <td>2</td>\n",
              "      <td>0</td>\n",
              "      <td>2019</td>\n",
              "      <td>2</td>\n",
              "      <td>2019</td>\n",
              "      <td>215830</td>\n",
              "      <td>11200</td>\n",
              "      <td>2</td>\n",
              "      <td>0</td>\n",
              "      <td>2</td>\n",
              "      <td>-1</td>\n",
              "      <td>-1</td>\n",
              "      <td>1</td>\n",
              "      <td>0.666667</td>\n",
              "      <td>0.666667</td>\n",
              "      <td>1.2</td>\n",
              "      <td>0.8</td>\n",
              "      <td>0</td>\n",
              "      <td>2</td>\n",
              "      <td>1</td>\n",
              "      <td>1</td>\n",
              "      <td>-5</td>\n",
              "      <td>-5</td>\n",
              "      <td>0.666667</td>\n",
              "      <td>1.666667</td>\n",
              "      <td>1.0</td>\n",
              "      <td>2.4</td>\n",
              "    </tr>\n",
              "    <tr>\n",
              "      <th>3041</th>\n",
              "      <td>2019-11-10</td>\n",
              "      <td>Boavista</td>\n",
              "      <td>FC Porto</td>\n",
              "      <td>0</td>\n",
              "      <td>1</td>\n",
              "      <td>2019</td>\n",
              "      <td>-1</td>\n",
              "      <td>2019</td>\n",
              "      <td>17650</td>\n",
              "      <td>256750</td>\n",
              "      <td>0</td>\n",
              "      <td>1</td>\n",
              "      <td>-1</td>\n",
              "      <td>-1</td>\n",
              "      <td>2</td>\n",
              "      <td>2</td>\n",
              "      <td>0.666667</td>\n",
              "      <td>0.666667</td>\n",
              "      <td>1.0</td>\n",
              "      <td>0.6</td>\n",
              "      <td>1</td>\n",
              "      <td>0</td>\n",
              "      <td>1</td>\n",
              "      <td>1</td>\n",
              "      <td>0</td>\n",
              "      <td>0</td>\n",
              "      <td>1.000000</td>\n",
              "      <td>0.333333</td>\n",
              "      <td>1.4</td>\n",
              "      <td>0.4</td>\n",
              "    </tr>\n",
              "  </tbody>\n",
              "</table>\n",
              "<p>3042 rows × 30 columns</p>\n",
              "</div>"
            ],
            "text/plain": [
              "            date         home  ... away__avg_scored_5  away__avg_suffered_5\n",
              "396   2011-08-12  Gil Vicente  ...                0.0                   0.0\n",
              "397   2011-08-13   Rio Ave FC  ...                0.0                   0.0\n",
              "398   2011-08-13  Sporting CP  ...                0.0                   0.0\n",
              "399   2011-08-14     Marítimo  ...                0.0                   0.0\n",
              "400   2011-08-14     Feirense  ...                0.0                   0.0\n",
              "...          ...          ...  ...                ...                   ...\n",
              "379   2019-11-10     Marítimo  ...                0.6                   2.2\n",
              "378   2019-11-10     Marítimo  ...                0.6                   2.2\n",
              "377   2019-11-10     Marítimo  ...                0.6                   2.2\n",
              "385   2019-11-10  Sporting CP  ...                1.0                   2.4\n",
              "3041  2019-11-10     Boavista  ...                1.4                   0.4\n",
              "\n",
              "[3042 rows x 30 columns]"
            ]
          },
          "metadata": {
            "tags": []
          },
          "execution_count": 119
        }
      ]
    },
    {
      "cell_type": "code",
      "metadata": {
        "id": "JnlsbmfBKpM1",
        "colab_type": "code",
        "colab": {}
      },
      "source": [
        "COL_NAMES = [\n",
        "    x for x in df.columns if\n",
        "    x in [\"home__val\", \"away__val\"] or\n",
        "    \"__avg_\" in x or\n",
        "    \"delta_minus\" in x or\n",
        "    x in [\n",
        "        \"away__suffered\",\n",
        "        \"away__scored\",\n",
        "        \"home__scored\",\n",
        "        \"home__suffered\"\n",
        "    ]\n",
        "]"
      ],
      "execution_count": 0,
      "outputs": []
    },
    {
      "cell_type": "code",
      "metadata": {
        "id": "7KeQ08JbX4fU",
        "colab_type": "code",
        "colab": {
          "base_uri": "https://localhost:8080/",
          "height": 309
        },
        "outputId": "f120b72c-98f9-429a-e4da-f4084dec0248"
      },
      "source": [
        "df.head()"
      ],
      "execution_count": 121,
      "outputs": [
        {
          "output_type": "execute_result",
          "data": {
            "text/html": [
              "<div>\n",
              "<style scoped>\n",
              "    .dataframe tbody tr th:only-of-type {\n",
              "        vertical-align: middle;\n",
              "    }\n",
              "\n",
              "    .dataframe tbody tr th {\n",
              "        vertical-align: top;\n",
              "    }\n",
              "\n",
              "    .dataframe thead th {\n",
              "        text-align: right;\n",
              "    }\n",
              "</style>\n",
              "<table border=\"1\" class=\"dataframe\">\n",
              "  <thead>\n",
              "    <tr style=\"text-align: right;\">\n",
              "      <th></th>\n",
              "      <th>date</th>\n",
              "      <th>home</th>\n",
              "      <th>away</th>\n",
              "      <th>goals_home</th>\n",
              "      <th>goals_away</th>\n",
              "      <th>season</th>\n",
              "      <th>delta</th>\n",
              "      <th>year</th>\n",
              "      <th>home__val</th>\n",
              "      <th>away__val</th>\n",
              "      <th>home__scored</th>\n",
              "      <th>home__suffered</th>\n",
              "      <th>home__delta_minus_1</th>\n",
              "      <th>home__delta_minus_2</th>\n",
              "      <th>home__delta_minus_3</th>\n",
              "      <th>home__delta_minus_4</th>\n",
              "      <th>home__avg_scored_3</th>\n",
              "      <th>home__avg_suffered_3</th>\n",
              "      <th>home__avg_scored_5</th>\n",
              "      <th>home__avg_suffered_5</th>\n",
              "      <th>away__scored</th>\n",
              "      <th>away__suffered</th>\n",
              "      <th>away__delta_minus_1</th>\n",
              "      <th>away__delta_minus_2</th>\n",
              "      <th>away__delta_minus_3</th>\n",
              "      <th>away__delta_minus_4</th>\n",
              "      <th>away__avg_scored_3</th>\n",
              "      <th>away__avg_suffered_3</th>\n",
              "      <th>away__avg_scored_5</th>\n",
              "      <th>away__avg_suffered_5</th>\n",
              "    </tr>\n",
              "  </thead>\n",
              "  <tbody>\n",
              "    <tr>\n",
              "      <th>0</th>\n",
              "      <td>2019-08-09</td>\n",
              "      <td>Portimonense</td>\n",
              "      <td>Belenenses SAD</td>\n",
              "      <td>0</td>\n",
              "      <td>0</td>\n",
              "      <td>2019</td>\n",
              "      <td>0</td>\n",
              "      <td>2019</td>\n",
              "      <td>19150</td>\n",
              "      <td>11200</td>\n",
              "      <td>0</td>\n",
              "      <td>0</td>\n",
              "      <td>0</td>\n",
              "      <td>0</td>\n",
              "      <td>0</td>\n",
              "      <td>0</td>\n",
              "      <td>0.0</td>\n",
              "      <td>1.333333</td>\n",
              "      <td>0.0</td>\n",
              "      <td>1.8</td>\n",
              "      <td>0</td>\n",
              "      <td>0</td>\n",
              "      <td>0</td>\n",
              "      <td>0</td>\n",
              "      <td>0</td>\n",
              "      <td>0</td>\n",
              "      <td>0.0</td>\n",
              "      <td>1.666667</td>\n",
              "      <td>0.0</td>\n",
              "      <td>3.2</td>\n",
              "    </tr>\n",
              "    <tr>\n",
              "      <th>1</th>\n",
              "      <td>2019-08-09</td>\n",
              "      <td>Portimonense</td>\n",
              "      <td>Belenenses SAD</td>\n",
              "      <td>0</td>\n",
              "      <td>0</td>\n",
              "      <td>2019</td>\n",
              "      <td>0</td>\n",
              "      <td>2019</td>\n",
              "      <td>19150</td>\n",
              "      <td>11200</td>\n",
              "      <td>0</td>\n",
              "      <td>0</td>\n",
              "      <td>0</td>\n",
              "      <td>0</td>\n",
              "      <td>0</td>\n",
              "      <td>0</td>\n",
              "      <td>0.0</td>\n",
              "      <td>1.333333</td>\n",
              "      <td>0.0</td>\n",
              "      <td>1.8</td>\n",
              "      <td>0</td>\n",
              "      <td>0</td>\n",
              "      <td>0</td>\n",
              "      <td>0</td>\n",
              "      <td>0</td>\n",
              "      <td>0</td>\n",
              "      <td>0.0</td>\n",
              "      <td>4.333333</td>\n",
              "      <td>0.0</td>\n",
              "      <td>3.8</td>\n",
              "    </tr>\n",
              "    <tr>\n",
              "      <th>2</th>\n",
              "      <td>2019-08-09</td>\n",
              "      <td>Portimonense</td>\n",
              "      <td>Belenenses SAD</td>\n",
              "      <td>0</td>\n",
              "      <td>0</td>\n",
              "      <td>2019</td>\n",
              "      <td>0</td>\n",
              "      <td>2019</td>\n",
              "      <td>19150</td>\n",
              "      <td>11200</td>\n",
              "      <td>0</td>\n",
              "      <td>0</td>\n",
              "      <td>0</td>\n",
              "      <td>0</td>\n",
              "      <td>0</td>\n",
              "      <td>0</td>\n",
              "      <td>0.0</td>\n",
              "      <td>3.000000</td>\n",
              "      <td>0.0</td>\n",
              "      <td>2.0</td>\n",
              "      <td>0</td>\n",
              "      <td>0</td>\n",
              "      <td>0</td>\n",
              "      <td>0</td>\n",
              "      <td>0</td>\n",
              "      <td>0</td>\n",
              "      <td>0.0</td>\n",
              "      <td>1.666667</td>\n",
              "      <td>0.0</td>\n",
              "      <td>3.2</td>\n",
              "    </tr>\n",
              "    <tr>\n",
              "      <th>3</th>\n",
              "      <td>2019-08-09</td>\n",
              "      <td>Portimonense</td>\n",
              "      <td>Belenenses SAD</td>\n",
              "      <td>0</td>\n",
              "      <td>0</td>\n",
              "      <td>2019</td>\n",
              "      <td>0</td>\n",
              "      <td>2019</td>\n",
              "      <td>19150</td>\n",
              "      <td>11200</td>\n",
              "      <td>0</td>\n",
              "      <td>0</td>\n",
              "      <td>0</td>\n",
              "      <td>0</td>\n",
              "      <td>0</td>\n",
              "      <td>0</td>\n",
              "      <td>0.0</td>\n",
              "      <td>3.000000</td>\n",
              "      <td>0.0</td>\n",
              "      <td>2.0</td>\n",
              "      <td>0</td>\n",
              "      <td>0</td>\n",
              "      <td>0</td>\n",
              "      <td>0</td>\n",
              "      <td>0</td>\n",
              "      <td>0</td>\n",
              "      <td>0.0</td>\n",
              "      <td>4.333333</td>\n",
              "      <td>0.0</td>\n",
              "      <td>3.8</td>\n",
              "    </tr>\n",
              "    <tr>\n",
              "      <th>4</th>\n",
              "      <td>2019-08-10</td>\n",
              "      <td>Santa Clara</td>\n",
              "      <td>Famalicão</td>\n",
              "      <td>0</td>\n",
              "      <td>2</td>\n",
              "      <td>2019</td>\n",
              "      <td>-2</td>\n",
              "      <td>2019</td>\n",
              "      <td>15350</td>\n",
              "      <td>14150</td>\n",
              "      <td>0</td>\n",
              "      <td>2</td>\n",
              "      <td>-2</td>\n",
              "      <td>0</td>\n",
              "      <td>0</td>\n",
              "      <td>0</td>\n",
              "      <td>0.0</td>\n",
              "      <td>3.333333</td>\n",
              "      <td>0.0</td>\n",
              "      <td>2.2</td>\n",
              "      <td>2</td>\n",
              "      <td>0</td>\n",
              "      <td>2</td>\n",
              "      <td>0</td>\n",
              "      <td>0</td>\n",
              "      <td>0</td>\n",
              "      <td>0.0</td>\n",
              "      <td>0.000000</td>\n",
              "      <td>0.0</td>\n",
              "      <td>0.0</td>\n",
              "    </tr>\n",
              "  </tbody>\n",
              "</table>\n",
              "</div>"
            ],
            "text/plain": [
              "         date          home  ... away__avg_scored_5  away__avg_suffered_5\n",
              "0  2019-08-09  Portimonense  ...                0.0                   3.2\n",
              "1  2019-08-09  Portimonense  ...                0.0                   3.8\n",
              "2  2019-08-09  Portimonense  ...                0.0                   3.2\n",
              "3  2019-08-09  Portimonense  ...                0.0                   3.8\n",
              "4  2019-08-10   Santa Clara  ...                0.0                   0.0\n",
              "\n",
              "[5 rows x 30 columns]"
            ]
          },
          "metadata": {
            "tags": []
          },
          "execution_count": 121
        }
      ]
    },
    {
      "cell_type": "code",
      "metadata": {
        "id": "87AAYoniX54x",
        "colab_type": "code",
        "colab": {}
      },
      "source": [
        "df.loc[df[TARGET] > 0, TARGET] = 1\n",
        "df.loc[df[TARGET] < 0, TARGET] = -1"
      ],
      "execution_count": 0,
      "outputs": []
    },
    {
      "cell_type": "markdown",
      "metadata": {
        "id": "C_J86hlHYAZa",
        "colab_type": "text"
      },
      "source": [
        "# A First Approach"
      ]
    },
    {
      "cell_type": "code",
      "metadata": {
        "id": "053pwW-yX795",
        "colab_type": "code",
        "colab": {}
      },
      "source": [
        "X = df[COL_NAMES]\n",
        "y = df[TARGET]"
      ],
      "execution_count": 0,
      "outputs": []
    },
    {
      "cell_type": "code",
      "metadata": {
        "id": "R90wLBjlYInc",
        "colab_type": "code",
        "colab": {
          "base_uri": "https://localhost:8080/",
          "height": 34
        },
        "outputId": "616ce002-07c2-4614-83a0-d4770acf5880"
      },
      "source": [
        "lc = SGDClassifier(\n",
        "    loss=\"log\",\n",
        "    random_state=RANDOM_STATE\n",
        ")\n",
        "lc.fit(X=X, y=y)\n",
        "print(f\"Our accuracy is {int(lc.score(X=X, y=y)*100)}%!\")"
      ],
      "execution_count": 124,
      "outputs": [
        {
          "output_type": "stream",
          "text": [
            "Our accuracy is 54%!\n"
          ],
          "name": "stdout"
        }
      ]
    },
    {
      "cell_type": "markdown",
      "metadata": {
        "id": "F5dg-rHsYNia",
        "colab_type": "text"
      },
      "source": [
        "It seems we have a model in our hands that we can expect to guess the result of over half of the matches.\n",
        "\n",
        "Do we really?\n",
        "\n",
        "Is this a fair way of evaluating our model?\n",
        "You may read **hint nr. 1.**"
      ]
    },
    {
      "cell_type": "markdown",
      "metadata": {
        "id": "NG2Gl7O6YXj3",
        "colab_type": "text"
      },
      "source": [
        "# A fair accessment of the performance - Cross Validation"
      ]
    },
    {
      "cell_type": "code",
      "metadata": {
        "id": "JAwPcz1jYKNo",
        "colab_type": "code",
        "colab": {}
      },
      "source": [
        "X_tr, X_te, y_tr, y_te = train_test_split(\n",
        "    X,\n",
        "    y,\n",
        "    test_size=0.5,\n",
        "    random_state=RANDOM_STATE\n",
        ")"
      ],
      "execution_count": 0,
      "outputs": []
    },
    {
      "cell_type": "code",
      "metadata": {
        "id": "Kw3OMT_-YdiZ",
        "colab_type": "code",
        "colab": {
          "base_uri": "https://localhost:8080/",
          "height": 51
        },
        "outputId": "8315bf52-65c5-411c-8dfe-4858f63cfe2b"
      },
      "source": [
        "lc = SGDClassifier(\n",
        "    loss=\"log\",\n",
        "    random_state=RANDOM_STATE \n",
        ")\n",
        "lc.fit(X=X_tr, y=y_tr)\n",
        "print(f\"Our accuracy is {int(lc.score(X=X_te, y=y_te)*100)}%!\\n A little worse than what we previously thought!\")"
      ],
      "execution_count": 126,
      "outputs": [
        {
          "output_type": "stream",
          "text": [
            "Our accuracy is 52%!\n",
            " A little worse than what we previously thought!\n"
          ],
          "name": "stdout"
        }
      ]
    },
    {
      "cell_type": "markdown",
      "metadata": {
        "id": "Ro3OQEiXYom_",
        "colab_type": "text"
      },
      "source": [
        "# Let's try other models"
      ]
    },
    {
      "cell_type": "code",
      "metadata": {
        "id": "0UXpDlVlYhK0",
        "colab_type": "code",
        "colab": {
          "base_uri": "https://localhost:8080/",
          "height": 34
        },
        "outputId": "3181c254-e143-48e6-a0cd-95e074bb6a3d"
      },
      "source": [
        "dt = DecisionTreeClassifier(random_state=RANDOM_STATE)\n",
        "dt.fit(X=X_tr, y=y_tr)\n",
        "print(f\"Our accuracy is {int(dt.score(X=X_te, y=y_te)*100)}%!\")"
      ],
      "execution_count": 127,
      "outputs": [
        {
          "output_type": "stream",
          "text": [
            "Our accuracy is 99%!\n"
          ],
          "name": "stdout"
        }
      ]
    },
    {
      "cell_type": "code",
      "metadata": {
        "id": "QfNWW-ttYqhF",
        "colab_type": "code",
        "colab": {
          "base_uri": "https://localhost:8080/",
          "height": 34
        },
        "outputId": "57fce5e0-4ca1-4b60-8806-df3dbc8cbfda"
      },
      "source": [
        "knn = KNeighborsClassifier()\n",
        "knn.fit(X=X_tr, y=y_tr)\n",
        "print(f\"Our accuracy is {int(knn.score(X=X_te, y=y_te)*100)}%!\")"
      ],
      "execution_count": 91,
      "outputs": [
        {
          "output_type": "stream",
          "text": [
            "Our accuracy is 63%!\n"
          ],
          "name": "stdout"
        }
      ]
    },
    {
      "cell_type": "markdown",
      "metadata": {
        "id": "0Y8UEhk4Yu20",
        "colab_type": "text"
      },
      "source": [
        "The DT accuracy looks pretty good.\n",
        "\n",
        "Is there reason for concern?\n",
        "\n",
        "Any idea on why this happened only with this model?\n",
        "\n",
        "Why this difference in performance between the models?\n",
        "\n",
        "Read **hint nr. 2** for an explanation"
      ]
    },
    {
      "cell_type": "markdown",
      "metadata": {
        "id": "LcVugcomY9oA",
        "colab_type": "text"
      },
      "source": [
        "We've came up with a simple cross validation scheme, but is it good enough for this situation?\n",
        "\n",
        "Should we take any extra care when we are dealing with data gathered at different moments in time?\n",
        "\n",
        "Read **hint nr. 3** for an explanation"
      ]
    }
  ]
}